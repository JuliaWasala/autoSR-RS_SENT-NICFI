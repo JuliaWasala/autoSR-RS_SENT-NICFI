{
 "cells": [
  {
   "cell_type": "code",
   "execution_count": 16,
   "metadata": {},
   "outputs": [],
   "source": [
    "DATADIR=\"/home/s1620444/data1/data\"\n",
    "DATASETSDIR=\"/home/s1620444/data1/data/tfds\"\n",
    "RESULTSDIR=\"/home/s1620444/data1/results\"\n",
    "WEIGHTSDIR=\"/home/s1620444/data1/results/weights\"\n",
    "PROJECTDIR=\"/data1/s1620444/automl-sr-rs/autoSR\"\n",
    "\n",
    "import os\n",
    "os.environ['TF_CPP_MIN_LOG_LEVEL'] = '3'\n",
    "\n",
    "import tensorflow as tf\n",
    "from tqdm import tqdm,trange\n",
    "\n",
    "physical_devices = tf.config.list_physical_devices('GPU')\n",
    "tf.config.experimental.set_memory_growth(physical_devices[0], True)\n",
    "\n",
    "import tensorflow_datasets as tfds\n",
    "import sys\n",
    "import numpy as np\n",
    "\n",
    "os.environ[\"DATASETSDIR\"]=DATASETSDIR\n",
    "os.environ[\"RESULTSDIR\"]=RESULTSDIR\n",
    "os.environ[\"DATADIR\"]=DATADIR\n",
    "\n",
    "sys.path.append(PROJECTDIR)\n",
    "from utils import get_data,resolve\n",
    "from baselines.wdsr.wdsr import wdsr_b\n",
    "from utils import psnr,ssim\n",
    "from baselines.rcan.rcan import generator as rcan\n",
    "from auto_models.models.autosrcnn import autoSRCNN\n",
    "from auto_models.models.autosr_rs import autoSR_RS\n"
   ]
  },
  {
   "cell_type": "code",
   "execution_count": 17,
   "metadata": {},
   "outputs": [],
   "source": [
    "# load wdsr & rcan\n",
    "def load_model(model_name: str, train_dataset: str, id: int, weights_dir: str):\n",
    "    if train_dataset == \"oli2msi\":\n",
    "        SCALE=3\n",
    "    else:\n",
    "        SCALE=2\n",
    "\n",
    "    dataset_options=[\"cerrado\",\"sr_ucmerced\",\"sr_so2sat\",\"oli2msi\"]\n",
    "\n",
    "    if model_name==\"wdsr\":\n",
    "        model=wdsr_b(num_res_blocks=32, scale=SCALE)\n",
    "        model.load_weights(f\"{weights_dir}/wdsr-b-{train_dataset}-32-x{SCALE}-{id}/final_model.h5\")\n",
    "    elif model_name==\"rcan\":\n",
    "        model=rcan(scale=SCALE)\n",
    "        # extract weights from nested checkpoint structure\n",
    "        model_dir=f\"{weights_dir}/rcan-{train_dataset}-x{SCALE}-{id}\"\n",
    "        checkpoint_subdirs=os.listdir(model_dir)\n",
    "        checkpoint_subdirs.sort()\n",
    "        # sometimes there are no checkpoints, just the final model\n",
    "        if checkpoint_subdirs[-1] == \"final_model.h5\":\n",
    "            subdir=\"\"\n",
    "        else:\n",
    "            subdir=checkpoint_subdirs[-1]\n",
    "        model.load_weights(os.path.join(model_dir,subdir, \"final_model.h5\"))\n",
    "    elif model_name==\"autosrcnn\":\n",
    "        model=autoSRCNN(os.path.join(RESULTSDIR,\"autosrcnn\"), f\"{id}_simple_srcnn_{train_dataset}\", max_trials=20, scale=SCALE, overwrite=False)\n",
    "    elif model_name==\"autosr\":\n",
    "        if dataset in dataset_options:\n",
    "            dataset_options.remove(dataset)\n",
    "            # autoSR_RS(dataset_options,trained_weights_dir,f\"0_autosr_v1_{dataset}\", \"v1\",max_trials=20, scale=scale, overwrite=False)\n",
    "        model=autoSR_RS(dataset_options,os.path.join(RESULTSDIR,\"autosr/v1\"), f\"{id}_autosr_v1_{train_dataset}\",\"v1\", max_trials=20, scale=SCALE, overwrite=False)\n",
    "    return model\n"
   ]
  },
  {
   "cell_type": "code",
   "execution_count": 18,
   "metadata": {},
   "outputs": [],
   "source": [
    "def evaluate_model(model, model_name, dataset):\n",
    "    if model_name ==\"autosrcnn\" or model_name==\"autosr\":\n",
    "        psnr_values = []\n",
    "        ssim_values=[]\n",
    "        \n",
    "        for lr,hr in dataset.take(100):\n",
    "            sr = tf.convert_to_tensor(np.around(np.clip(model.predict(lr.numpy(), custom_objects={\"psnr\":psnr,\"ssim\":ssim}),0,255)).astype(\"uint8\")[0],np.uint8)\n",
    "            psnr_values.append(tf.keras.backend.get_value(psnr(sr,hr))[0])\n",
    "            ssim_values.append(tf.keras.backend.get_value(ssim(sr,hr))[0])\n",
    "\n",
    "        return np.array(psnr_values), np.array(ssim_values)\n",
    "        \n",
    "    # rcan & wdsr\n",
    "    psnr_values=[]\n",
    "    ssim_values=[]\n",
    "    for lr, hr in dataset.take(100):\n",
    "        sr= resolve(model, lr)\n",
    "        psnr_values.append(tf.keras.backend.get_value(psnr(hr,sr))[0])\n",
    "        ssim_values.append(tf.keras.backend.get_value(ssim(hr,sr))[0])\n",
    "\n",
    "    return np.array(psnr_values), np.array(ssim_values)"
   ]
  },
  {
   "cell_type": "code",
   "execution_count": 19,
   "metadata": {},
   "outputs": [],
   "source": [
    "def get_test_set(dataset_name,batch_size, as_supervised, as_numpy):\n",
    "    test,_,_=get_data(dataset_name,train_batch_size=-1, test_batch_size=batch_size, val_batch_size=-1, as_supervised=as_supervised)\n",
    "    if as_numpy:\n",
    "        return tfds.as_numpy(test)\n",
    "    else:\n",
    "        test.repeat(1)\n",
    "        return test"
   ]
  },
  {
   "cell_type": "code",
   "execution_count": 21,
   "metadata": {},
   "outputs": [
    {
     "name": "stderr",
     "output_type": "stream",
     "text": [
      "train_data:   0%|          | 0/1 [00:00<?, ?it/s]"
     ]
    },
    {
     "name": "stdout",
     "output_type": "stream",
     "text": [
      "WARNING:tensorflow:Collective ops is not configured at program startup. Some performance features may not be enabled.\n"
     ]
    },
    {
     "name": "stderr",
     "output_type": "stream",
     "text": [
      "WARNING:tensorflow:Collective ops is not configured at program startup. Some performance features may not be enabled.\n"
     ]
    },
    {
     "name": "stdout",
     "output_type": "stream",
     "text": [
      "INFO:tensorflow:Using MirroredStrategy with devices ('/job:localhost/replica:0/task:0/device:GPU:0',)\n"
     ]
    },
    {
     "name": "stderr",
     "output_type": "stream",
     "text": [
      "INFO:tensorflow:Using MirroredStrategy with devices ('/job:localhost/replica:0/task:0/device:GPU:0',)\n"
     ]
    },
    {
     "name": "stdout",
     "output_type": "stream",
     "text": [
      "INFO:tensorflow:Reloading Oracle from existing project /home/s1620444/data1/results/autosrcnn/0_simple_srcnn_cerrado_trial_20/oracle.json\n"
     ]
    },
    {
     "name": "stderr",
     "output_type": "stream",
     "text": [
      "INFO:tensorflow:Reloading Oracle from existing project /home/s1620444/data1/results/autosrcnn/0_simple_srcnn_cerrado_trial_20/oracle.json\n"
     ]
    },
    {
     "name": "stdout",
     "output_type": "stream",
     "text": [
      "INFO:tensorflow:Reloading Tuner from /home/s1620444/data1/results/autosrcnn/0_simple_srcnn_cerrado_trial_20/tuner0.json\n"
     ]
    },
    {
     "name": "stderr",
     "output_type": "stream",
     "text": [
      "INFO:tensorflow:Reloading Tuner from /home/s1620444/data1/results/autosrcnn/0_simple_srcnn_cerrado_trial_20/tuner0.json\n"
     ]
    },
    {
     "name": "stdout",
     "output_type": "stream",
     "text": [
      "1/1 [==============================] - 0s 95ms/step\n",
      "1/1 [==============================] - 0s 93ms/step\n",
      "1/1 [==============================] - 0s 95ms/step\n",
      "1/1 [==============================] - 0s 106ms/step\n",
      "1/1 [==============================] - 0s 107ms/step\n",
      "1/1 [==============================] - 0s 92ms/step\n",
      "1/1 [==============================] - 0s 90ms/step\n",
      "1/1 [==============================] - 0s 87ms/step\n",
      "1/1 [==============================] - 0s 89ms/step\n",
      "1/1 [==============================] - 0s 91ms/step\n",
      "1/1 [==============================] - 0s 92ms/step\n",
      "1/1 [==============================] - 0s 92ms/step\n",
      "1/1 [==============================] - 0s 94ms/step\n",
      "1/1 [==============================] - 0s 91ms/step\n",
      "1/1 [==============================] - 0s 88ms/step\n",
      "1/1 [==============================] - 4s 4s/step\n",
      "1/1 [==============================] - 0s 89ms/step\n",
      "1/1 [==============================] - 0s 96ms/step\n",
      "1/1 [==============================] - 0s 91ms/step\n",
      "1/1 [==============================] - 0s 92ms/step\n",
      "1/1 [==============================] - 0s 94ms/step\n",
      "1/1 [==============================] - 0s 93ms/step\n",
      "1/1 [==============================] - 0s 93ms/step\n",
      "1/1 [==============================] - 0s 112ms/step\n",
      "1/1 [==============================] - 0s 85ms/step\n",
      "1/1 [==============================] - 0s 96ms/step\n",
      "1/1 [==============================] - 0s 92ms/step\n",
      "1/1 [==============================] - 0s 96ms/step\n",
      "1/1 [==============================] - 0s 90ms/step\n",
      "1/1 [==============================] - 0s 91ms/step\n",
      "1/1 [==============================] - 0s 94ms/step\n",
      "1/1 [==============================] - 0s 90ms/step\n",
      "1/1 [==============================] - 0s 117ms/step\n",
      "1/1 [==============================] - 0s 94ms/step\n",
      "1/1 [==============================] - 0s 91ms/step\n",
      "1/1 [==============================] - 0s 95ms/step\n",
      "1/1 [==============================] - 0s 119ms/step\n",
      "1/1 [==============================] - 0s 92ms/step\n",
      "1/1 [==============================] - 0s 94ms/step\n",
      "1/1 [==============================] - 0s 93ms/step\n",
      "1/1 [==============================] - 0s 119ms/step\n",
      "1/1 [==============================] - 0s 93ms/step\n",
      "1/1 [==============================] - 0s 86ms/step\n",
      "1/1 [==============================] - 0s 92ms/step\n",
      "1/1 [==============================] - 0s 91ms/step\n",
      "1/1 [==============================] - 0s 92ms/step\n",
      "1/1 [==============================] - 0s 90ms/step\n",
      "1/1 [==============================] - 0s 92ms/step\n",
      "1/1 [==============================] - 0s 118ms/step\n",
      "1/1 [==============================] - 0s 92ms/step\n",
      "1/1 [==============================] - 0s 98ms/step\n",
      "1/1 [==============================] - 0s 444ms/step\n",
      "1/1 [==============================] - 0s 93ms/step\n",
      "1/1 [==============================] - 0s 96ms/step\n",
      "1/1 [==============================] - 0s 92ms/step\n",
      "1/1 [==============================] - 0s 92ms/step\n",
      "1/1 [==============================] - 0s 92ms/step\n",
      "1/1 [==============================] - 0s 118ms/step\n",
      "1/1 [==============================] - 0s 435ms/step\n",
      "1/1 [==============================] - 0s 144ms/step\n",
      "1/1 [==============================] - 0s 93ms/step\n",
      "1/1 [==============================] - 0s 140ms/step\n",
      "1/1 [==============================] - 0s 118ms/step\n",
      "1/1 [==============================] - 0s 95ms/step\n",
      "1/1 [==============================] - 0s 92ms/step\n",
      "1/1 [==============================] - 0s 92ms/step\n",
      "1/1 [==============================] - 0s 118ms/step\n",
      "1/1 [==============================] - 0s 94ms/step\n",
      "1/1 [==============================] - 0s 92ms/step\n",
      "1/1 [==============================] - 0s 116ms/step\n",
      "1/1 [==============================] - 0s 94ms/step\n",
      "1/1 [==============================] - 0s 117ms/step\n",
      "1/1 [==============================] - 0s 92ms/step\n",
      "1/1 [==============================] - 0s 93ms/step\n",
      "1/1 [==============================] - 0s 93ms/step\n",
      "1/1 [==============================] - 0s 93ms/step\n",
      "1/1 [==============================] - 0s 94ms/step\n",
      "1/1 [==============================] - 0s 92ms/step\n",
      "1/1 [==============================] - 0s 91ms/step\n",
      "1/1 [==============================] - 0s 452ms/step\n",
      "1/1 [==============================] - 0s 92ms/step\n",
      "1/1 [==============================] - 0s 120ms/step\n",
      "1/1 [==============================] - 0s 91ms/step\n",
      "1/1 [==============================] - 0s 94ms/step\n",
      "1/1 [==============================] - 0s 91ms/step\n",
      "1/1 [==============================] - 0s 115ms/step\n",
      "1/1 [==============================] - 0s 445ms/step\n",
      "1/1 [==============================] - 0s 93ms/step\n",
      "1/1 [==============================] - 0s 94ms/step\n",
      "1/1 [==============================] - 0s 94ms/step\n",
      "1/1 [==============================] - 0s 111ms/step\n",
      "1/1 [==============================] - 0s 93ms/step\n",
      "1/1 [==============================] - 0s 117ms/step\n",
      "1/1 [==============================] - 0s 91ms/step\n",
      "1/1 [==============================] - 0s 93ms/step\n",
      "1/1 [==============================] - 0s 115ms/step\n",
      "1/1 [==============================] - 0s 129ms/step\n",
      "1/1 [==============================] - 0s 89ms/step\n",
      "1/1 [==============================] - 0s 93ms/step\n",
      "1/1 [==============================] - 0s 95ms/step\n"
     ]
    },
    {
     "name": "stderr",
     "output_type": "stream",
     "text": [
      "train_data: 100%|██████████| 1/1 [03:03<00:00, 183.21s/it]\n",
      "model: 100%|██████████| 1/1 [03:03<00:00, 183.21s/it]"
     ]
    },
    {
     "name": "stdout",
     "output_type": "stream",
     "text": [
      "autosrcnn cerrado [40.440903 33.124386 37.195965 42.79157  35.770744 35.639477 35.705532\n",
      " 38.37733  41.576115 42.612263 37.911007 40.287876 35.15385  39.174854\n",
      " 35.31135  38.097775 34.616585 39.883137 38.662518 36.18476  40.640396\n",
      " 37.04793  38.19916  39.9777   35.075462 40.603268 38.642117 32.121925\n",
      " 40.739914 39.31578  33.409676 41.38348  38.70991  36.82414  40.261356\n",
      " 38.127937 37.896282 35.666683 35.111324 38.232967 36.67672  42.914223\n",
      " 38.548504 40.54169  39.27686  35.71941  36.873653 34.910007 39.31448\n",
      " 36.099728 38.954494 38.696205 38.41705  38.307602 38.59203  35.491512\n",
      " 38.631237       inf 45.802593 41.390137 36.988487 37.15613  37.806572\n",
      " 39.632717 35.311687 33.550896 37.041847 36.695248 40.903633 36.111683\n",
      " 40.68185  37.47894  40.141853 39.77136  37.670155 37.10064  40.557915\n",
      " 39.11486  35.030327 39.716072 34.254417 38.71355  35.43776  40.574883\n",
      " 39.32047  39.03361  40.24856  40.1204   39.214134 38.586334 38.69556\n",
      " 35.23849  35.87244  38.42676  35.556377 37.824417 36.921143 38.34539\n",
      " 36.005836 38.03904 ] [0.9615159  0.9404624  0.9324389  0.9674371  0.9340326  0.92086965\n",
      " 0.95055836 0.937206   0.95603615 0.96610355 0.93376684 0.9525814\n",
      " 0.9339574  0.9404466  0.9612332  0.9481978  0.9415385  0.962467\n",
      " 0.95366836 0.9496147  0.96313363 0.9345562  0.9457434  0.95960855\n",
      " 0.935812   0.9580779  0.9394994  0.93314433 0.96509796 0.96206003\n",
      " 0.95492435 0.9945364  0.9511375  0.9470734  0.950327   0.940396\n",
      " 0.9538025  0.9500064  0.9491736  0.94574994 0.9466581  0.9695917\n",
      " 0.95224166 0.9498844  0.95349735 0.9554358  0.9433889  0.9441888\n",
      " 0.954027   0.9659922  0.9364743  0.9454518  0.9511196  0.9486007\n",
      " 0.94211936 0.9412047  0.9320319  1.         0.992246   0.9605172\n",
      " 0.9429075  0.9390934  0.94918126 0.943302   0.937592   0.923264\n",
      " 0.9405493  0.9296792  0.9544785  0.93169576 0.95127743 0.9504516\n",
      " 0.9527049  0.9441255  0.93957347 0.9351446  0.95452815 0.94411534\n",
      " 0.93506795 0.964135   0.97423834 0.9504652  0.9204693  0.9518135\n",
      " 0.9621267  0.95911556 0.9591835  0.96119976 0.9491417  0.94785905\n",
      " 0.94937396 0.9419405  0.95060396 0.94103307 0.9338486  0.935759\n",
      " 0.93615335 0.95390624 0.93393797 0.9368159 ]\n"
     ]
    },
    {
     "name": "stderr",
     "output_type": "stream",
     "text": [
      "\n"
     ]
    }
   ],
   "source": [
    "datasets=[\"cerrado\",\"sr_ucmerced\",\"oli2msi\",\"sent_nicfi\"]\n",
    "models=[\"wdsr\",\"rcan\",\"autosr\",\"autosrcnn\"]\n",
    "\n",
    "datasets_bar=tqdm(datasets)\n",
    "datasets_bar.set_description(\"train_data\")\n",
    "models_bar=tqdm(models)\n",
    "models_bar.set_description(\"model\")\n",
    "\n",
    "\n",
    "# f.write(\"model,dataset,psnr,ssim\\n\")\n",
    "for model_name in models_bar:\n",
    "    batch_size=1\n",
    "    as_supervised=True\n",
    "    as_numpy=False\n",
    "    for dataset in datasets_bar:\n",
    "        test = get_test_set(dataset,batch_size, as_supervised,as_numpy)\n",
    "        model=load_model(model_name, dataset, 0, WEIGHTSDIR)\n",
    "        psnr_vals,ssim_vals= evaluate_model(model, model_name, test)\n",
    "        print(model_name,dataset, psnr_vals, ssim_vals)\n",
    "        with open(f\"{RESULTSDIR}/test_scores_per_img_sample.csv\", \"a\") as f:\n",
    "            f.write(\",\".join([model_name, dataset, \"\\\"[\"+\",\".join(str(i) for i in psnr_vals)+\"]\\\"\",\"\\\"[\"+\",\".join(str(i) for i in ssim_vals)+\"]\\\"\"])+\"\\n\")\n"
   ]
  },
  {
   "cell_type": "code",
   "execution_count": null,
   "metadata": {},
   "outputs": [],
   "source": []
  }
 ],
 "metadata": {
  "interpreter": {
   "hash": "db5201974aa0ec2a3feb6c91df8d0b317c338373e748a9bcf2d5fa26be0bd3ce"
  },
  "kernelspec": {
   "display_name": "Python 3.7.11",
   "language": "python",
   "name": "python3"
  },
  "language_info": {
   "codemirror_mode": {
    "name": "ipython",
    "version": 3
   },
   "file_extension": ".py",
   "mimetype": "text/x-python",
   "name": "python",
   "nbconvert_exporter": "python",
   "pygments_lexer": "ipython3",
   "version": "3.7.11"
  },
  "orig_nbformat": 4
 },
 "nbformat": 4,
 "nbformat_minor": 2
}
