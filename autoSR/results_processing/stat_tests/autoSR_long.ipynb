{
 "cells": [
  {
   "cell_type": "code",
   "execution_count": 1,
   "metadata": {},
   "outputs": [],
   "source": [
    "import pandas as pd\n",
    "import numpy as np\n",
    "from scipy.stats import wilcoxon"
   ]
  },
  {
   "cell_type": "code",
   "execution_count": null,
   "metadata": {},
   "outputs": [],
   "source": [
    "RESULTSDIR=\"/data1/s1620444/results\""
   ]
  },
  {
   "cell_type": "markdown",
   "metadata": {},
   "source": [
    "<h2> Statistical comparison of AutoSR-100 & AutoSR-50 with AutoSR-20 </h2>\n",
    "<ul>\n",
    "<li> import results </li>\n",
    "<li> bootstrap results with 1000 samples of 3, no rep</li>\n",
    "<li> wilcoxon </li>\n",
    "</ul>"
   ]
  },
  {
   "cell_type": "code",
   "execution_count": 2,
   "metadata": {},
   "outputs": [],
   "source": [
    "def bootstrap(measurements,sample_size,N=1000):\n",
    "    samples= (np.random.choice(measurements,size=sample_size) for _ in range(N))\n",
    "    return np.array([i for arr in samples for i in arr])"
   ]
  },
  {
   "cell_type": "code",
   "execution_count": 3,
   "metadata": {},
   "outputs": [],
   "source": [
    "df_autosr=pd.read_csv(f\"{RESULTSDIR}/autosr/autosr.csv\", names=[\"trials\", \"version\",\"dataset\",\"id\",\"psnr\", \"ssim\"])\n",
    "autosr_100_cerrado_results=df_autosr.query('dataset==\"cerrado\"&trials==100')[[\"psnr\",\"ssim\"]]\n",
    "autosr_20_cerrado_results=df_autosr.query('dataset==\"cerrado\"&trials==20')[[\"psnr\",\"ssim\"]]\n",
    "autosr_50_sent_nicfi_results=df_autosr.query('dataset==\"sent_nicfi\"&trials==50')[[\"psnr\",\"ssim\"]]\n",
    "autosr_20_sent_nicfi_results=df_autosr.query('dataset==\"sent_nicfi\"&trials==20')[[\"psnr\",\"ssim\"]]\n"
   ]
  },
  {
   "cell_type": "markdown",
   "metadata": {},
   "source": [
    "<h2> Cerrado (100 trials) </h2>"
   ]
  },
  {
   "cell_type": "code",
   "execution_count": 4,
   "metadata": {},
   "outputs": [],
   "source": [
    "psnr_cerrado_100_bootstrap=bootstrap(autosr_100_cerrado_results.psnr.to_numpy(),3)\n",
    "ssim_cerrado_100_bootstrap=bootstrap(autosr_100_cerrado_results.ssim.to_numpy(),3)\n",
    "psnr_cerrado_20_bootstrap=bootstrap(autosr_20_cerrado_results.psnr.to_numpy(),3)\n",
    "ssim_cerrado_20_bootstrap=bootstrap(autosr_20_cerrado_results.ssim.to_numpy(),3)"
   ]
  },
  {
   "cell_type": "code",
   "execution_count": 5,
   "metadata": {},
   "outputs": [
    {
     "name": "stdout",
     "output_type": "stream",
     "text": [
      "WilcoxonResult(statistic=610561.0, pvalue=5.654944636333237e-262)\n",
      "WilcoxonResult(statistic=638369.0, pvalue=3.0844881197212477e-253)\n"
     ]
    }
   ],
   "source": [
    "psnr_cerrado=wilcoxon(psnr_cerrado_100_bootstrap,psnr_cerrado_20_bootstrap)\n",
    "ssim_cerrado=wilcoxon(ssim_cerrado_100_bootstrap,ssim_cerrado_20_bootstrap)\n",
    "print(psnr_cerrado)\n",
    "print(ssim_cerrado)"
   ]
  },
  {
   "cell_type": "markdown",
   "metadata": {},
   "source": [
    "<h2> SENT-NICFI (50 trials) </h2>"
   ]
  },
  {
   "cell_type": "code",
   "execution_count": 19,
   "metadata": {},
   "outputs": [],
   "source": [
    "psnr_sent_nicfi_50_bootstrap=bootstrap(autosr_50_sent_nicfi_results.psnr.to_numpy(),3)\n",
    "ssim_sent_nicfi_50_bootstrap=bootstrap(autosr_50_sent_nicfi_results.ssim.to_numpy(),3)\n",
    "psnr_sent_nicfi_20_bootstrap=bootstrap(autosr_20_sent_nicfi_results.psnr.to_numpy(),3)\n",
    "ssim_sent_nicfi_20_bootstrap=bootstrap(autosr_20_sent_nicfi_results.ssim.to_numpy(),3)"
   ]
  },
  {
   "cell_type": "code",
   "execution_count": 20,
   "metadata": {},
   "outputs": [
    {
     "name": "stdout",
     "output_type": "stream",
     "text": [
      "WilcoxonResult(statistic=1157625.0, pvalue=1.688598119604646e-117)\n",
      "WilcoxonResult(statistic=1190956.0, pvalue=1.4633768934507007e-110)\n"
     ]
    }
   ],
   "source": [
    "psnr_sent_nicfi=wilcoxon(psnr_sent_nicfi_50_bootstrap,psnr_sent_nicfi_20_bootstrap)\n",
    "ssim_sent_nicfi=wilcoxon(ssim_sent_nicfi_50_bootstrap,ssim_sent_nicfi_20_bootstrap)\n",
    "print(psnr_sent_nicfi)\n",
    "print(ssim_sent_nicfi)"
   ]
  },
  {
   "cell_type": "code",
   "execution_count": 21,
   "metadata": {},
   "outputs": [
    {
     "data": {
      "text/html": [
       "<div>\n",
       "<style scoped>\n",
       "    .dataframe tbody tr th:only-of-type {\n",
       "        vertical-align: middle;\n",
       "    }\n",
       "\n",
       "    .dataframe tbody tr th {\n",
       "        vertical-align: top;\n",
       "    }\n",
       "\n",
       "    .dataframe thead th {\n",
       "        text-align: right;\n",
       "    }\n",
       "</style>\n",
       "<table border=\"1\" class=\"dataframe\">\n",
       "  <thead>\n",
       "    <tr style=\"text-align: right;\">\n",
       "      <th></th>\n",
       "      <th>psnr</th>\n",
       "      <th>ssim</th>\n",
       "    </tr>\n",
       "  </thead>\n",
       "  <tbody>\n",
       "    <tr>\n",
       "      <th>26</th>\n",
       "      <td>30.620716</td>\n",
       "      <td>0.864772</td>\n",
       "    </tr>\n",
       "    <tr>\n",
       "      <th>28</th>\n",
       "      <td>30.155462</td>\n",
       "      <td>0.855890</td>\n",
       "    </tr>\n",
       "    <tr>\n",
       "      <th>29</th>\n",
       "      <td>30.633562</td>\n",
       "      <td>0.864752</td>\n",
       "    </tr>\n",
       "    <tr>\n",
       "      <th>30</th>\n",
       "      <td>30.157454</td>\n",
       "      <td>0.855644</td>\n",
       "    </tr>\n",
       "    <tr>\n",
       "      <th>31</th>\n",
       "      <td>30.645859</td>\n",
       "      <td>0.864968</td>\n",
       "    </tr>\n",
       "  </tbody>\n",
       "</table>\n",
       "</div>"
      ],
      "text/plain": [
       "         psnr      ssim\n",
       "26  30.620716  0.864772\n",
       "28  30.155462  0.855890\n",
       "29  30.633562  0.864752\n",
       "30  30.157454  0.855644\n",
       "31  30.645859  0.864968"
      ]
     },
     "execution_count": 21,
     "metadata": {},
     "output_type": "execute_result"
    }
   ],
   "source": [
    "autosr_50_sent_nicfi_results"
   ]
  },
  {
   "cell_type": "code",
   "execution_count": 22,
   "metadata": {},
   "outputs": [
    {
     "data": {
      "text/html": [
       "<div>\n",
       "<style scoped>\n",
       "    .dataframe tbody tr th:only-of-type {\n",
       "        vertical-align: middle;\n",
       "    }\n",
       "\n",
       "    .dataframe tbody tr th {\n",
       "        vertical-align: top;\n",
       "    }\n",
       "\n",
       "    .dataframe thead th {\n",
       "        text-align: right;\n",
       "    }\n",
       "</style>\n",
       "<table border=\"1\" class=\"dataframe\">\n",
       "  <thead>\n",
       "    <tr style=\"text-align: right;\">\n",
       "      <th></th>\n",
       "      <th>psnr</th>\n",
       "      <th>ssim</th>\n",
       "    </tr>\n",
       "  </thead>\n",
       "  <tbody>\n",
       "    <tr>\n",
       "      <th>8</th>\n",
       "      <td>30.316862</td>\n",
       "      <td>0.860030</td>\n",
       "    </tr>\n",
       "    <tr>\n",
       "      <th>9</th>\n",
       "      <td>30.637455</td>\n",
       "      <td>0.864484</td>\n",
       "    </tr>\n",
       "    <tr>\n",
       "      <th>10</th>\n",
       "      <td>30.585390</td>\n",
       "      <td>0.863893</td>\n",
       "    </tr>\n",
       "    <tr>\n",
       "      <th>11</th>\n",
       "      <td>30.007053</td>\n",
       "      <td>0.851932</td>\n",
       "    </tr>\n",
       "    <tr>\n",
       "      <th>14</th>\n",
       "      <td>29.446159</td>\n",
       "      <td>0.834736</td>\n",
       "    </tr>\n",
       "  </tbody>\n",
       "</table>\n",
       "</div>"
      ],
      "text/plain": [
       "         psnr      ssim\n",
       "8   30.316862  0.860030\n",
       "9   30.637455  0.864484\n",
       "10  30.585390  0.863893\n",
       "11  30.007053  0.851932\n",
       "14  29.446159  0.834736"
      ]
     },
     "execution_count": 22,
     "metadata": {},
     "output_type": "execute_result"
    }
   ],
   "source": [
    "autosr_20_sent_nicfi_results"
   ]
  },
  {
   "cell_type": "code",
   "execution_count": 24,
   "metadata": {},
   "outputs": [
    {
     "data": {
      "text/plain": [
       "psnr    30.198584\n",
       "ssim     0.855015\n",
       "dtype: float64"
      ]
     },
     "execution_count": 24,
     "metadata": {},
     "output_type": "execute_result"
    }
   ],
   "source": [
    "autosr_20_sent_nicfi_results.mean()"
   ]
  },
  {
   "cell_type": "code",
   "execution_count": 25,
   "metadata": {},
   "outputs": [
    {
     "data": {
      "text/plain": [
       "psnr    30.442611\n",
       "ssim     0.861205\n",
       "dtype: float64"
      ]
     },
     "execution_count": 25,
     "metadata": {},
     "output_type": "execute_result"
    }
   ],
   "source": [
    "autosr_50_sent_nicfi_results.mean()"
   ]
  }
 ],
 "metadata": {
  "interpreter": {
   "hash": "db5201974aa0ec2a3feb6c91df8d0b317c338373e748a9bcf2d5fa26be0bd3ce"
  },
  "kernelspec": {
   "display_name": "Python 3.7.11",
   "language": "python",
   "name": "python3"
  },
  "language_info": {
   "codemirror_mode": {
    "name": "ipython",
    "version": 3
   },
   "file_extension": ".py",
   "mimetype": "text/x-python",
   "name": "python",
   "nbconvert_exporter": "python",
   "pygments_lexer": "ipython3",
   "version": "3.7.11"
  },
  "orig_nbformat": 4
 },
 "nbformat": 4,
 "nbformat_minor": 2
}
