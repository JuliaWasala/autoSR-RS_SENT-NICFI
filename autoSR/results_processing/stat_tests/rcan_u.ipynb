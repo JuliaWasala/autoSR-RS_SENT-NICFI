{
 "cells": [
  {
   "cell_type": "code",
   "execution_count": 2,
   "metadata": {},
   "outputs": [],
   "source": [
    "import pandas as pd\n",
    "import numpy as np\n",
    "from scipy.stats import wilcoxon"
   ]
  },
  {
   "cell_type": "code",
   "execution_count": null,
   "metadata": {},
   "outputs": [],
   "source": [
    "RESULTSDIR=\"/data1/s1620444/results\""
   ]
  },
  {
   "cell_type": "markdown",
   "metadata": {},
   "source": [
    "<h2> Statistical comparison of RCAN & RCAN_U </h2>\n",
    "<ul>\n",
    "<li> import results </li>\n",
    "<li> bootstrap </li>\n",
    "<li> wilcoxon </li>\n",
    "</ul>"
   ]
  },
  {
   "cell_type": "code",
   "execution_count": 12,
   "metadata": {},
   "outputs": [],
   "source": [
    "def bootstrap(measurements,sample_size,N=1000):\n",
    "    samples= (np.random.choice(measurements,size=sample_size) for _ in range(N))\n",
    "    return np.array([i for arr in samples for i in arr])"
   ]
  },
  {
   "cell_type": "code",
   "execution_count": 13,
   "metadata": {},
   "outputs": [],
   "source": [
    "df_baselines=pd.read_csv(f\"{RESULTSDIR}/baselines/baseline_results.csv\", header=0)\n",
    "rcan_results=df_baselines.query('baseline==\"rcan\"&dataset==\"cerrado\"')[[\"psnr\",\"ssim\"]]\n",
    "rcan_u_results=df_baselines.query('baseline==\"rcan_undeep\"&dataset==\"cerrado\"')[[\"psnr\",\"ssim\"]]\n"
   ]
  },
  {
   "cell_type": "code",
   "execution_count": 14,
   "metadata": {},
   "outputs": [],
   "source": [
    "psnr_rcan_bootstrap=bootstrap(rcan_results.psnr.to_numpy(),3)\n",
    "ssim_rcan_bootstrap=bootstrap(rcan_results.ssim.to_numpy(),3)\n",
    "psnr_rcan_u_bootstrap=bootstrap(rcan_u_results.psnr.to_numpy(),3)\n",
    "ssim_rcan_u_bootstrap=bootstrap(rcan_u_results.ssim.to_numpy(),3)"
   ]
  },
  {
   "cell_type": "code",
   "execution_count": 17,
   "metadata": {},
   "outputs": [
    {
     "name": "stdout",
     "output_type": "stream",
     "text": [
      "WilcoxonResult(statistic=0.0, pvalue=0.0)\n",
      "WilcoxonResult(statistic=0.0, pvalue=0.0)\n"
     ]
    }
   ],
   "source": [
    "psnr=wilcoxon(psnr_rcan_bootstrap,psnr_rcan_u_bootstrap)\n",
    "ssim=wilcoxon(ssim_rcan_bootstrap,ssim_rcan_u_bootstrap)\n",
    "print(psnr)\n",
    "print(ssim)"
   ]
  }
 ],
 "metadata": {
  "interpreter": {
   "hash": "db5201974aa0ec2a3feb6c91df8d0b317c338373e748a9bcf2d5fa26be0bd3ce"
  },
  "kernelspec": {
   "display_name": "Python 3.7.11",
   "language": "python",
   "name": "python3"
  },
  "language_info": {
   "codemirror_mode": {
    "name": "ipython",
    "version": 3
   },
   "file_extension": ".py",
   "mimetype": "text/x-python",
   "name": "python",
   "nbconvert_exporter": "python",
   "pygments_lexer": "ipython3",
   "version": "3.7.11"
  },
  "orig_nbformat": 4
 },
 "nbformat": 4,
 "nbformat_minor": 2
}
